{
 "cells": [
  {
   "cell_type": "code",
   "execution_count": 1,
   "metadata": {},
   "outputs": [
    {
     "name": "stdout",
     "output_type": "stream",
     "text": [
      "http://firds.esma.europa.eu/firds/DLTINS_20210117_01of01.zip\n",
      "http://firds.esma.europa.eu/firds/DLTINS_20210117_01of01.zip\n",
      "http://firds.esma.europa.eu/firds/DLTINS_20210117_01of01.zip\n",
      "http://firds.esma.europa.eu/firds/DLTINS_20210117_01of01.zip\n",
      "http://firds.esma.europa.eu/firds/DLTINS_20210117_01of01.zip\n",
      "http://firds.esma.europa.eu/firds/DLTINS_20210117_01of01.zip\n",
      "http://firds.esma.europa.eu/firds/DLTINS_20210117_01of01.zip\n",
      "http://firds.esma.europa.eu/firds/DLTINS_20210117_01of01.zip\n",
      "http://firds.esma.europa.eu/firds/DLTINS_20210117_01of01.zip\n",
      "http://firds.esma.europa.eu/firds/DLTINS_20210117_01of01.zip\n",
      "http://firds.esma.europa.eu/firds/DLTINS_20210119_01of02.zip\n",
      "http://firds.esma.europa.eu/firds/DLTINS_20210119_01of02.zip\n",
      "http://firds.esma.europa.eu/firds/DLTINS_20210119_01of02.zip\n",
      "http://firds.esma.europa.eu/firds/DLTINS_20210119_01of02.zip\n",
      "http://firds.esma.europa.eu/firds/DLTINS_20210119_01of02.zip\n",
      "http://firds.esma.europa.eu/firds/DLTINS_20210119_01of02.zip\n",
      "http://firds.esma.europa.eu/firds/DLTINS_20210119_01of02.zip\n",
      "http://firds.esma.europa.eu/firds/DLTINS_20210119_01of02.zip\n",
      "http://firds.esma.europa.eu/firds/DLTINS_20210119_01of02.zip\n",
      "http://firds.esma.europa.eu/firds/DLTINS_20210119_01of02.zip\n",
      "http://firds.esma.europa.eu/firds/DLTINS_20210119_02of02.zip\n",
      "http://firds.esma.europa.eu/firds/DLTINS_20210119_02of02.zip\n",
      "http://firds.esma.europa.eu/firds/DLTINS_20210119_02of02.zip\n",
      "http://firds.esma.europa.eu/firds/DLTINS_20210119_02of02.zip\n",
      "http://firds.esma.europa.eu/firds/DLTINS_20210119_02of02.zip\n",
      "http://firds.esma.europa.eu/firds/DLTINS_20210119_02of02.zip\n",
      "http://firds.esma.europa.eu/firds/DLTINS_20210119_02of02.zip\n",
      "http://firds.esma.europa.eu/firds/DLTINS_20210119_02of02.zip\n",
      "http://firds.esma.europa.eu/firds/DLTINS_20210119_02of02.zip\n",
      "http://firds.esma.europa.eu/firds/DLTINS_20210119_02of02.zip\n",
      "http://firds.esma.europa.eu/firds/DLTINS_20210118_01of01.zip\n",
      "http://firds.esma.europa.eu/firds/DLTINS_20210118_01of01.zip\n",
      "http://firds.esma.europa.eu/firds/DLTINS_20210118_01of01.zip\n",
      "http://firds.esma.europa.eu/firds/DLTINS_20210118_01of01.zip\n",
      "http://firds.esma.europa.eu/firds/DLTINS_20210118_01of01.zip\n",
      "http://firds.esma.europa.eu/firds/DLTINS_20210118_01of01.zip\n",
      "http://firds.esma.europa.eu/firds/DLTINS_20210118_01of01.zip\n",
      "http://firds.esma.europa.eu/firds/DLTINS_20210118_01of01.zip\n",
      "http://firds.esma.europa.eu/firds/DLTINS_20210118_01of01.zip\n",
      "http://firds.esma.europa.eu/firds/DLTINS_20210118_01of01.zip\n"
     ]
    }
   ],
   "source": [
    "import requests\n",
    "import xml.etree.ElementTree as ET\n",
    "\n",
    "\n",
    "response = requests.get('https://registers.esma.europa.eu/solr/esma_registers_firds_files/select?q=*&fq=publication_date:%5B2021-01-17T00:00:00Z+TO+2021-01-19T23:59:59Z%5D&wt=xml&indent=true&start=0&rows=100')\n",
    "root = ET.fromstring(response.text)\n",
    "for i in root.findall('result'):\n",
    "    for j in i.findall('doc'):\n",
    "        for k in j:\n",
    "            link = j.find('.//str[@name=\"download_link\"]').text\n",
    "            print(link)\n",
    "            req = requests.get(link)"
   ]
  },
  {
   "cell_type": "code",
   "execution_count": 2,
   "metadata": {},
   "outputs": [
    {
     "name": "stdout",
     "output_type": "stream",
     "text": [
      "100% [..........................................................................] 4434514 / 4434514"
     ]
    },
    {
     "data": {
      "text/plain": [
       "'DLTINS_20210117_01of01 (1).zip'"
      ]
     },
     "execution_count": 2,
     "metadata": {},
     "output_type": "execute_result"
    }
   ],
   "source": [
    "import wget\n",
    "url='http://firds.esma.europa.eu/firds/DLTINS_20210117_01of01.zip'\n",
    "wget.download(url)"
   ]
  },
  {
   "cell_type": "code",
   "execution_count": 4,
   "metadata": {},
   "outputs": [],
   "source": [
    "import pandas as pd"
   ]
  },
  {
   "cell_type": "code",
   "execution_count": 7,
   "metadata": {},
   "outputs": [],
   "source": [
    "root = ET.parse(\"select (1).xml\").getroot()\n",
    "cols = [\"Id\", \"FullNm \", \" ClssfctnTp\", \"CmmdtyDerivInd\", \"NtnlCcy\"]\n",
    "rows = []\n",
    "for i in root.findall(\"FinInstrmRptgRefDataDltaRpt\"):\n",
    "    for j in i.findall(\"FinInstrmGnlAttrbts\"):\n",
    "            Id = j.find(\"Id\").text\n",
    "            FullNm = j.find(\"FullNm\").text\n",
    "            ClssfctnTp = j.find(\"ClssfctnTp\").text\n",
    "            CmmdtyDerivInd = j.find(\"CmmdtyDerivInd\").text\n",
    "            NtnlCcy = j.find(\"NtnlCcy\").text\n",
    "            Issr = i.find(\"Issr\").text\n",
    "            rows.append({\n",
    "                \"Id\":Id,\n",
    "                \"FullNm\":FullNm,\n",
    "                \"ClssfctnTp\":ClssfctnTp,\n",
    "                \"CmmdtyDerivInd\":CmmdtyDerivInd,\n",
    "                \"NtnlCcy\":NtnlCcy,\n",
    "                \"Issr\":Issr\n",
    "                })\n",
    "df = pd.DataFrame(rows,columns=cols)"
   ]
  },
  {
   "cell_type": "code",
   "execution_count": 17,
   "metadata": {},
   "outputs": [],
   "source": [
    "# Writing dataframe to csv\n",
    "df.to_csv('FinInstrmRptgRefDataDltaRpt.csv')"
   ]
  },
  {
   "cell_type": "code",
   "execution_count": null,
   "metadata": {},
   "outputs": [],
   "source": [
    "#To see Pydoc for all functions or classes used"
   ]
  },
  {
   "cell_type": "code",
   "execution_count": null,
   "metadata": {},
   "outputs": [],
   "source": [
    "import pydoc"
   ]
  },
  {
   "cell_type": "code",
   "execution_count": null,
   "metadata": {},
   "outputs": [],
   "source": [
    "pydoc.help()"
   ]
  },
  {
   "cell_type": "code",
   "execution_count": null,
   "metadata": {},
   "outputs": [],
   "source": []
  }
 ],
 "metadata": {
  "kernelspec": {
   "display_name": "Python 3",
   "language": "python",
   "name": "python3"
  },
  "language_info": {
   "codemirror_mode": {
    "name": "ipython",
    "version": 3
   },
   "file_extension": ".py",
   "mimetype": "text/x-python",
   "name": "python",
   "nbconvert_exporter": "python",
   "pygments_lexer": "ipython3",
   "version": "3.8.5"
  }
 },
 "nbformat": 4,
 "nbformat_minor": 4
}
